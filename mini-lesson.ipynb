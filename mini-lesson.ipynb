{
 "cells": [
  {
   "cell_type": "markdown",
   "metadata": {},
   "source": [
    "# Python Exceptions Mini-Lesson"
   ]
  },
  {
   "cell_type": "markdown",
   "metadata": {},
   "source": [
    "## Oh no, unsanitized input (the worst)"
   ]
  },
  {
   "cell_type": "code",
   "execution_count": 15,
   "metadata": {},
   "outputs": [
    {
     "name": "stdout",
     "output_type": "stream",
     "text": [
      "Give me a value between 1 and 100: -3\n",
      "-33.333333333333336\n"
     ]
    }
   ],
   "source": [
    "# there are at least two bad things that can happen here to crash the program\n",
    "# and the user could also give us a value outside of our chosen range\n",
    "user_data = input('Give me a value between 1 and 100: ')\n",
    "user_data = int(user_data)\n",
    "value = 100/user_data\n",
    "print(value)"
   ]
  },
  {
   "cell_type": "markdown",
   "metadata": {},
   "source": [
    "## Sanitizing inputs instead of using exceptions (LBYL, fine but not Pythonic)\n",
    "(That's \"Look Before You Leap\")"
   ]
  },
  {
   "cell_type": "code",
   "execution_count": 9,
   "metadata": {},
   "outputs": [
    {
     "name": "stdout",
     "output_type": "stream",
     "text": [
      "Give me a value between 1 and 100: -5\n",
      "That was not at all what I asked for.\n"
     ]
    }
   ],
   "source": [
    "# the code below covers non-digits and out of bounds errors (including divide by zero)\n",
    "user_data = input('Give me a value between 1 and 100: ')\n",
    "# isdigit() returns true for digits >= 0, false for non-digits and negatives\n",
    "if user_data.isdigit(): \n",
    "    user_data = int(user_data)\n",
    "    # we can prevent divide-by-zero AND the user being out of bounds in one if; tidy!\n",
    "    if user_data >= 1 and user_data <= 100: \n",
    "        value = 100/user_data\n",
    "        print(value)\n",
    "    else:\n",
    "        print('Your value was not between 1 and 100.')\n",
    "else:\n",
    "    print('That wasn\\'t even a number.')"
   ]
  },
  {
   "cell_type": "markdown",
   "metadata": {},
   "source": [
    "## Doing this with exceptions (EAFP, more Pythonic)\n",
    "(That's \"Easier to Ask Forgiveness than Permission\")"
   ]
  },
  {
   "cell_type": "markdown",
   "metadata": {},
   "source": [
    "### First we are going to do this the kind of naïve and honestly not so great way\n",
    "But look how much better even this tiny example is than trying to do the same thing with if statements, right?\n",
    "And for simple programs, really? This may really be sufficient for your needs."
   ]
  },
  {
   "cell_type": "code",
   "execution_count": 19,
   "metadata": {},
   "outputs": [
    {
     "name": "stdout",
     "output_type": "stream",
     "text": [
      "Give me a value between 1 and 100: -2\n",
      "You did not enter a value between 1 and 100.\n"
     ]
    }
   ],
   "source": [
    "user_data = input('Give me a value between 1 and 100: ')\n",
    "try:\n",
    "    user_data = int(user_data) # could throw ValueError\n",
    "    assert(user_data > 0), 'Value less than 1'\n",
    "    assert(user_data <= 100), 'Value greater than 100'\n",
    "    value = 100/user_data # could throw DivideByZeroError\n",
    "    print(value)\n",
    "except:\n",
    "    print('You did not enter a value between 1 and 100.')"
   ]
  },
  {
   "cell_type": "markdown",
   "metadata": {},
   "source": [
    "### Let us explicitly catch our exceptions, because that is so much more useful\n",
    "In big projects, especially if there are multiple people working on them, you want to catch each error type explicitly. "
   ]
  },
  {
   "cell_type": "code",
   "execution_count": null,
   "metadata": {},
   "outputs": [],
   "source": [
    "user_data = input('Give me a value between 1 and 100: ')\n",
    "try:\n",
    "    user_data = int(user_data) # could throw ValueError\n",
    "    value = 100/user_data # could throw DivideByZeroError\n",
    "    # you'd normally put this before the actual division, but I wanted to show y'all\n",
    "    # a few cool error types, you know?\n",
    "    assert(user_data > 0 and user_data <= 100), 'Value is not between 1 and 100.'\n",
    "    print(value)\n",
    "except ValueError as e:\n",
    "    print(e)\n",
    "    print('You did not enter an integer. Halting.')\n",
    "except ZeroDivisionError as z:\n",
    "    print(z)\n",
    "    print('Entering zero is a sneaky thing to do. Halting.')\n",
    "except AssertionError as a:\n",
    "    print(a)\n",
    "    print('Please use values between 1 and 100')"
   ]
  },
  {
   "cell_type": "code",
   "execution_count": null,
   "metadata": {},
   "outputs": [],
   "source": []
  }
 ],
 "metadata": {
  "kernelspec": {
   "display_name": "Python 3",
   "language": "python",
   "name": "python3"
  },
  "language_info": {
   "codemirror_mode": {
    "name": "ipython",
    "version": 3
   },
   "file_extension": ".py",
   "mimetype": "text/x-python",
   "name": "python",
   "nbconvert_exporter": "python",
   "pygments_lexer": "ipython3",
   "version": "3.7.0"
  }
 },
 "nbformat": 4,
 "nbformat_minor": 2
}
