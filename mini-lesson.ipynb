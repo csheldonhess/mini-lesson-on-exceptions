{
 "cells": [
  {
   "cell_type": "markdown",
   "metadata": {},
   "source": [
    "# Python Exceptions Mini-Lesson"
   ]
  },
  {
   "cell_type": "markdown",
   "metadata": {},
   "source": [
    "## The most familiar flavor of exception handling: context managers!\n",
    "We've already seen this, but I bet none of us do this right every time. Today is the day we all start doing better!"
   ]
  },
  {
   "cell_type": "code",
   "execution_count": 1,
   "metadata": {},
   "outputs": [],
   "source": [
    "# this isn't ... wrong? but it's also not quite right.\n",
    "text_file = open('text.txt', 'w')\n",
    "\n",
    "for i in range(0,100):\n",
    "    text_file.write('AlL WoRk aNd nO pLaY MaKeS JaCk A dUlL bOy.\\n')\n",
    "    \n",
    "# but what goes here? what needs to happen here, if we love our computers?"
   ]
  },
  {
   "cell_type": "markdown",
   "metadata": {},
   "source": [
    "We can do better, right? "
   ]
  },
  {
   "cell_type": "code",
   "execution_count": 2,
   "metadata": {},
   "outputs": [],
   "source": [
    "with open('text.txt', 'w') as text_file:\n",
    "    for i in range(0,100):\n",
    "        text_file.write('All work and no play makes Jack a dull boy.\\n')\n",
    "# as soon as we close the with block, the file closes - woo, cleanup!"
   ]
  },
  {
   "cell_type": "markdown",
   "metadata": {},
   "source": [
    "We've seen this for files, and we should really always do this in that case. There are lots of other uses for context managers (locking, database access, etc.), and you can write your own for anything that needs to be closed/finalized when the programmer is finished with it."
   ]
  },
  {
   "cell_type": "markdown",
   "metadata": {},
   "source": [
    "## Now let's talk about the other flavors of exception handling!\n",
    "We try, we catch, we assert, and we raise exceptions.\n",
    "\n",
    "## Oh no, unsanitized input! This is very bad."
   ]
  },
  {
   "cell_type": "code",
   "execution_count": null,
   "metadata": {},
   "outputs": [],
   "source": [
    "# there are at least two bad things that can happen here to crash the program\n",
    "# and the user could also give us a value outside of our chosen range\n",
    "user_data = input('Give me a value between 1 and 100: ')\n",
    "user_data = int(user_data)\n",
    "value = 100/user_data\n",
    "print(value)\n",
    "\n",
    "# we all need a little validation, so this should run at the end of the script!\n",
    "print('\\n\\nYou are doing a great job. Keep up the good work.')\n",
    "\n",
    "# suggested inputs: 5, 0, -3, 101, hi"
   ]
  },
  {
   "cell_type": "markdown",
   "metadata": {},
   "source": [
    "## Sanitizing inputs instead of using exceptions (LBYL, fine but not Pythonic)\n",
    "(That's \"Look Before You Leap\")"
   ]
  },
  {
   "cell_type": "code",
   "execution_count": null,
   "metadata": {},
   "outputs": [],
   "source": [
    "# the code below covers non-digits and out of bounds errors (including divide by zero)\n",
    "user_data = input('Give me a value between 1 and 100: ')\n",
    "# isdigit() returns true for digits >= 0, false for non-digits and negatives\n",
    "if user_data.isdigit(): \n",
    "    user_data = int(user_data)\n",
    "    # we can prevent divide-by-zero AND the user being out of bounds in one if; tidy!\n",
    "    if user_data >= 1 and user_data <= 100: \n",
    "        value = 100/user_data\n",
    "        print(value)\n",
    "    else:\n",
    "        print('Your value was not between 1 and 100.')\n",
    "else:\n",
    "    print('That wasn\\'t even a number.')\n",
    "    \n",
    "# we all need a little validation, so this should run at the end of the script!\n",
    "print('\\n\\nYou are doing a great job. Keep up the good work.')\n",
    "    \n",
    "# suggested inputs: 5, 0, -3, 101, hi"
   ]
  },
  {
   "cell_type": "markdown",
   "metadata": {},
   "source": [
    "## Doing this with exceptions (EAFP, more Pythonic)\n",
    "(That's \"Easier to Ask Forgiveness than Permission\")"
   ]
  },
  {
   "cell_type": "markdown",
   "metadata": {},
   "source": [
    "### First we are going to do this the kind of naïve and honestly not so great way\n",
    "But look how much better even this tiny example is than trying to do the same thing with if statements, right?\n",
    "And for simple programs, really? This may be sufficient for your needs."
   ]
  },
  {
   "cell_type": "code",
   "execution_count": null,
   "metadata": {},
   "outputs": [],
   "source": [
    "user_data = input('Give me a value between 1 and 100: ')\n",
    "try:\n",
    "    user_data = int(user_data) # could throw ValueError\n",
    "    # this will throw an AssertionError if we're out of bounds\n",
    "    assert(user_data > 0 and user_data <= 100), 'Value is not between 1 and 100.'\n",
    "    value = 100/user_data # could throw DivideByZeroError\n",
    "    print(value)\n",
    "except:\n",
    "    print('You did not enter a value between 1 and 100.')\n",
    "    \n",
    "# we all need a little validation, so this should run at the end of the script!\n",
    "print('\\n\\nYou are doing a great job. Keep up the good work.')\n",
    "    \n",
    "# suggested inputs: 5, 0, -3, 101, hi"
   ]
  },
  {
   "cell_type": "markdown",
   "metadata": {},
   "source": [
    "### Let us explicitly catch our exceptions, because that is so much more useful\n",
    "In big projects, especially if there are multiple people working on them, you want to catch each error type explicitly. Failing to do so, especially if you don't log what happened, can make bug-tracking _incredibly_ difficult. Catch your exceptions explicitly, friends. Just do it."
   ]
  },
  {
   "cell_type": "code",
   "execution_count": null,
   "metadata": {},
   "outputs": [],
   "source": [
    "user_data = input('Give me a value between 1 and 100: ')\n",
    "try:\n",
    "    user_data = int(user_data) # could throw ValueError\n",
    "    value = 100/user_data # could throw DivideByZeroError\n",
    "    # you'd normally put this before the actual division, but I wanted to show y'all\n",
    "    # a few cool error types, you know?\n",
    "    assert(user_data > 0 and user_data <= 100), 'Value is not between 1 and 100.'\n",
    "    print(value)\n",
    "except ValueError as e:\n",
    "    print(e) # e is the text of the exception, and it's a variable we can use!\n",
    "    print('You did not enter an integer. Halting.')\n",
    "except ZeroDivisionError as z:\n",
    "    print(z)\n",
    "    print('Entering zero is a sneaky thing to do. Halting.')\n",
    "except AssertionError as a:\n",
    "    print(a)\n",
    "    print('Please use values between 1 and 100')\n",
    "    \n",
    "# we all need a little validation, so this should run at the end of the script!\n",
    "print('\\n\\nYou are doing a great job. Keep up the good work.')\n",
    "    \n",
    "# suggested inputs: 5, 0, -3, 101, hi"
   ]
  },
  {
   "cell_type": "markdown",
   "metadata": {},
   "source": [
    "### We've got more tools than try and except!\n",
    "So, hey. What if we really like this `try`/`except` format, and we want to use it with files instead of `with`/`as`? We can. First, let's do it wrong:"
   ]
  },
  {
   "cell_type": "code",
   "execution_count": null,
   "metadata": {},
   "outputs": [],
   "source": [
    "def get_the_goods():\n",
    "    my_file = open('potato.txt', 'r')\n",
    "\n",
    "get_the_goods()\n",
    "# we all need a little validation, so this should run at the end of the script!\n",
    "print('\\n\\nYou are doing a great job. Keep up the good work.')"
   ]
  },
  {
   "cell_type": "markdown",
   "metadata": {},
   "source": [
    "... and a bit less wrong ..."
   ]
  },
  {
   "cell_type": "code",
   "execution_count": null,
   "metadata": {},
   "outputs": [],
   "source": [
    "def get_the_goods():\n",
    "    try:\n",
    "        my_file = open('potato.txt', 'r')\n",
    "    except OSError as e: #OSError is a parent of FileNotFoundError \n",
    "        print(e)\n",
    "        \n",
    "get_the_goods()\n",
    "\n",
    "# we all need a little validation, so this should run at the end of the script!\n",
    "print('\\n\\nYou are doing a great job. Keep up the good work.')"
   ]
  },
  {
   "cell_type": "markdown",
   "metadata": {},
   "source": [
    "Except, here we are again, right? We just failed to close our file again! Luckily, we've got a way to handle this. If there's an exception, our `except` line runs. If there's not, `else` will run."
   ]
  },
  {
   "cell_type": "code",
   "execution_count": null,
   "metadata": {},
   "outputs": [],
   "source": [
    "def get_the_goods():\n",
    "    try:\n",
    "        my_file = open('potato.txt', 'r')\n",
    "    except OSError as e:\n",
    "        print(e)\n",
    "        print('We will not be reading this file today.')\n",
    "    else: # runs if (and only if) the except clause does not run\n",
    "        my_file.close()\n",
    "        \n",
    "get_the_goods()\n",
    "\n",
    "# we all need a little validation, so this should run at the end of the script!\n",
    "print('\\n\\nYou are doing a great job. Keep up the good work.')"
   ]
  },
  {
   "cell_type": "markdown",
   "metadata": {},
   "source": [
    "It's a little silly that we don't include our friendly note in the function, too, isn't it? Let's do that."
   ]
  },
  {
   "cell_type": "code",
   "execution_count": null,
   "metadata": {},
   "outputs": [],
   "source": [
    "def get_the_goods():\n",
    "    try:\n",
    "        my_file = open('potato.txt', 'r')\n",
    "    except OSError as e:\n",
    "        print(e)\n",
    "        print('We will not be reading this file today.')\n",
    "    else: # runs if (and only if) the except clause does not run\n",
    "        my_file.close()\n",
    "    finally: # runs after these other guys, no matter what\n",
    "        # we all need a little validation, so this should run at the end of the script!\n",
    "        print('\\n\\nYou are doing a great job. Keep up the good work.')\n",
    "        \n",
    "get_the_goods()"
   ]
  },
  {
   "cell_type": "markdown",
   "metadata": {},
   "source": [
    "### Sometimes you want to raise a little ... exception\n",
    "There are times when it's useful to raise a specific kind of exception. You can make your own types, but that's a little outside the scope of a half hour lesson. You can also raise any of the [built in exceptions](https://docs.python.org/3/library/exceptions.html) you'd like. I just chose `UnicodeError` below because I think Unicode handling is interesting. 😁"
   ]
  },
  {
   "cell_type": "code",
   "execution_count": null,
   "metadata": {},
   "outputs": [],
   "source": [
    "def this_throws_an_exception():\n",
    "    raise UnicodeError('I am just trying to make a point here.')\n",
    "    \n",
    "try:\n",
    "    this_throws_an_exception()\n",
    "except UnicodeError as e:\n",
    "    print(e)\n",
    "finally:\n",
    "    # we all need a little validation, so this should run at the end of the script!\n",
    "    print('\\n\\nYou are doing a great job. Keep up the good work.')"
   ]
  }
 ],
 "metadata": {
  "kernelspec": {
   "display_name": "Python 3",
   "language": "python",
   "name": "python3"
  },
  "language_info": {
   "codemirror_mode": {
    "name": "ipython",
    "version": 3
   },
   "file_extension": ".py",
   "mimetype": "text/x-python",
   "name": "python",
   "nbconvert_exporter": "python",
   "pygments_lexer": "ipython3",
   "version": "3.7.0"
  }
 },
 "nbformat": 4,
 "nbformat_minor": 2
}
